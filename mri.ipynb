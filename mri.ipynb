{
 "cells": [
  {
   "cell_type": "code",
   "execution_count": null,
   "id": "0",
   "metadata": {},
   "outputs": [],
   "source": [
    "import SimpleITK as sitk\n",
    "import numpy as np\n",
    "import matplotlib.pyplot as plt\n",
    "import os\n",
    "import glob"
   ]
  },
  {
   "cell_type": "code",
   "execution_count": null,
   "id": "1",
   "metadata": {},
   "outputs": [],
   "source": [
    "def myshow():\n",
    "    tmp = ctnp[::-3,300,:]\n",
    "    sizes = tmp.shape\n",
    "    print(sizes)\n",
    "    fig, ax = plt.subplots(figsize = (sizes[1]/20,sizes[0]/20))\n",
    "    spacing = (  0.625*3, 0.8203120231628418)\n",
    "    print(sizes[1]*spacing[1] / sizes[0]*spacing[0])\n",
    "    ax.imshow(tmp, cmap=\"gray\", vmin = -900, vmax = 200, extent = (0, sizes[1]*spacing[1], sizes[0]*spacing[0], 0))\n",
    "    #ax.imshow(tmp, cmap=\"gray\", vmin = -900, vmax = 200, aspect = sizes[1]*spacing[1] / sizes[0]*spacing[0])\n",
    "    plt.axis('off')"
   ]
  },
  {
   "cell_type": "code",
   "execution_count": null,
   "id": "2",
   "metadata": {},
   "outputs": [],
   "source": [
    "\n",
    "myshow()"
   ]
  },
  {
   "cell_type": "code",
   "execution_count": null,
   "id": "3",
   "metadata": {},
   "outputs": [],
   "source": [
    "import matplotlib.pyplot as plt\n",
    "\n",
    "plt.plot([0, 10], [0, 5])\n",
    "\n",
    "# at x=2, y=1\n",
    "plt.annotate('data @ (2, 1)', xy=(2, 1), xycoords='data')\n",
    "\n",
    "# at 200% x, 100% y\n",
    "plt.annotate('frac @ (2, 1)', xy=(2, 1), xycoords='axes fraction')\n",
    "\n",
    "# at x=2, 100% y\n",
    "plt.annotate('(data, frac) @ (2, 1)', xy=(2, 1), xycoords=('data', 'axes fraction'))\n",
    "\n",
    "# at 200% x, y=1\n",
    "plt.annotate('(frac, data) @ (2, 1)', xy=(2, 1), xycoords=('axes fraction', 'data'))"
   ]
  },
  {
   "cell_type": "code",
   "execution_count": null,
   "id": "4",
   "metadata": {},
   "outputs": [],
   "source": [
    "ct_fn = \"/Volumes/lss_sfain/UTE-CT pairs/IPF/IPF_103-018_20170103_CT.nii\"\n",
    "ute_fn = \"/Volumes/lss_sfain/UTE-CT pairs/IPF/IPF_103-018_20170103_UTE.nii\"\n",
    "\n",
    "ctim = sitk.ReadImage(ct_fn)\n",
    "uteim = sitk.ReadImage(ute_fn)\n",
    "\n"
   ]
  },
  {
   "cell_type": "code",
   "execution_count": null,
   "id": "5",
   "metadata": {},
   "outputs": [],
   "source": [
    "ctim.GetSpacing()"
   ]
  },
  {
   "cell_type": "code",
   "execution_count": null,
   "id": "6",
   "metadata": {},
   "outputs": [],
   "source": [
    "ct_fn = \"/Volumes/lss_sfain/UTE-CT pairs/IPF/IPF_103-042_20190221_CT.nii\"\n",
    "ute_fn = \"/Volumes/lss_sfain/UTE-CT pairs/IPF/IPF_103-042_20190221_UTE.nii\"\n",
    "\n",
    "\n",
    "ctim = sitk.ReadImage(ct_fn)\n",
    "uteim = sitk.ReadImage(ute_fn)"
   ]
  },
  {
   "cell_type": "code",
   "execution_count": null,
   "id": "7",
   "metadata": {},
   "outputs": [],
   "source": [
    "ctflip = sitk.Flip(ctim, [False,True,False])"
   ]
  },
  {
   "cell_type": "code",
   "execution_count": null,
   "id": "8",
   "metadata": {},
   "outputs": [],
   "source": [
    "ctnp = sitk.GetArrayFromImage(ctflip)\n",
    "utenp = sitk.GetArrayFromImage(uteim)"
   ]
  },
  {
   "cell_type": "code",
   "execution_count": null,
   "id": "9",
   "metadata": {},
   "outputs": [],
   "source": [
    "uteflip = np.transpose(utenp, [2,0,1])\n",
    "uteflip = uteflip[::-1]"
   ]
  },
  {
   "cell_type": "code",
   "execution_count": null,
   "id": "10",
   "metadata": {},
   "outputs": [],
   "source": [
    "fig, axs = plt.subplots(2,3, figsize = (12,8))\n",
    "for ax in axs.flatten():\n",
    "    ax.axis('off')\n",
    "axs[0,0].imshow(ctnp[200,:,:], cmap=\"gray\", vmin = -900, vmax = 200)\n",
    "axs[0,1].imshow(ctnp[::-1,300,:], cmap=\"gray\", vmin = -900, vmax = 200)\n",
    "axs[0,2].imshow(ctnp[::-1,:,200], cmap=\"gray\", vmin = -900, vmax = 200)\n",
    "\n",
    "axs[1,0].imshow(uteflip[125,:,:], cmap=\"gray\", vmin = 0, vmax = 2e-10)\n",
    "axs[1,1].imshow(uteflip[::-1,100,:], cmap=\"gray\", vmin = 0, vmax = 2e-10)\n",
    "axs[1,2].imshow(uteflip[::-1,:,100], cmap=\"gray\", vmin = 0, vmax = 2e-10)"
   ]
  },
  {
   "cell_type": "code",
   "execution_count": null,
   "id": "11",
   "metadata": {},
   "outputs": [],
   "source": [
    "plt.hist(uteflip.flatten())"
   ]
  },
  {
   "cell_type": "code",
   "execution_count": null,
   "id": "12",
   "metadata": {},
   "outputs": [],
   "source": [
    "files = glob.glob(\"/Volumes/lss_sfain/UTE-CT pairs/IPF/*UTE.nii\")\n",
    "for i,ute_fn in enumerate(files):\n",
    "    uteim = sitk.ReadImage(ute_fn)\n",
    "    utenp = sitk.GetArrayFromImage(uteim)\n",
    "    uteflip = np.transpose(utenp, [2,0,1])\n",
    "    uteflip = uteflip[::-1]\n",
    "    \n",
    "    \n",
    "#axs[0,0].imshow(ctnp[200,:,:], cmap=\"gray\", vmin = -900, vmax = 200)\n",
    "#axs[0,1].imshow(ctnp[::-1,300,:], cmap=\"gray\", vmin = -900, vmax = 200)\n",
    "#axs[0,2].imshow(ctnp[::-1,:,200], cmap=\"gray\", vmin = -900, vmax = 200)\n",
    "    fig, axs = plt.subplots(1,3, figsize = (15,8))\n",
    "    for ax in axs.flatten():\n",
    "       ax.axis('off')\n",
    "    axs[0].imshow(uteflip[125,:,:], cmap=\"gray\", vmin = 0, vmax = 2e-10)\n",
    "    axs[1].imshow(uteflip[::-1,100,:], cmap=\"gray\", vmin = 0, vmax = 2e-10)\n",
    "    axs[2].imshow(uteflip[::-1,:,100], cmap=\"gray\", vmin = 0, vmax = 2e-10)\n",
    "    \n",
    "    outfn = os.path.basename(ute_fn.replace(\".nii\",\"\"))\n",
    "    plt.subplots_adjust(wspace=.01, hspace=0)\n",
    "    \n",
    "    plt.savefig(\"figs/{}.pdf\".format(outfn),bbox_inches='tight',pad_inches = 0)"
   ]
  },
  {
   "cell_type": "code",
   "execution_count": null,
   "id": "13",
   "metadata": {},
   "outputs": [],
   "source": [
    "dce_fn = \"/Users/segerard/Desktop/dce.nii.gz\"\n",
    "dce_im = sitk.ReadImage(dce_fn)\n",
    "\n",
    "dce_im = sitk.PermuteAxes(dce_im, [2,0,1])\n",
    "dce_im = sitk.Flip(dce_im,[True, False, True])\n",
    "dce_np = sitk.GetArrayFromImage(dce_im)\n"
   ]
  },
  {
   "cell_type": "code",
   "execution_count": null,
   "id": "14",
   "metadata": {},
   "outputs": [],
   "source": [
    "fig, axs = plt.subplots(1,3, figsize = (12,8))\n",
    "for ax in axs.flatten():\n",
    "    ax.axis('off')\n",
    "axs[0].imshow(dce_np[100,:,:], cmap=\"gray\", vmin = 0, vmax = 150)\n",
    "axs[1].imshow(dce_np[::-1,120,:], cmap=\"gray\", vmin = 0, vmax = 150)\n",
    "axs[2].imshow(dce_np[::-1,:,75], cmap=\"gray\", vmin = 0, vmax = 150)"
   ]
  },
  {
   "cell_type": "code",
   "execution_count": null,
   "id": "15",
   "metadata": {},
   "outputs": [],
   "source": [
    "dce_fn = \"/Users/segerard/Desktop/dce.nii.gz\"\n",
    "dce_im = sitk.ReadImage(dce_fn)\n",
    "\n",
    "## First permute axis to make direction identity\n",
    "## Column with nonzero in first element should be the first column\n",
    "## Column with nonzero in the second element should be the second column\n",
    "## so forth\n",
    "## taking argmax of each row will produce this permutation p\n",
    "## when solving permution, sign does not matter so take absolute of direction\n",
    "## needed to convert to int because PermuteAxes picky\n",
    "## argsort gives inverse of permutation p\n",
    "\n",
    "d = np.absolute(np.array(dce_im.GetDirection()).reshape(3,3)) \n",
    "p = np.argmax(d, axis = 1) \n",
    "p = [int(i) for i in p]\n",
    "pinv = np.argsort(p) \n",
    "pinv= [int(i) for i in pinv]\n",
    "new = sitk.PermuteAxes(dce_im, p) \n",
    "\n",
    "## Next flip axis with negative in new direction matrix\n",
    "dirs = new.GetDirection() \n",
    "dirs_diag = np.array([dirs[0], dirs[4], dirs[8]])\n",
    "dirs_diag = np.sign(dirs_diag)\n",
    "flips = [False if x==1 else True for x in dirs_diag]\n",
    "new = sitk.Flip(new, flips)\n",
    "\n",
    "\n",
    "## Inverse perprocess: flip then permute\n",
    "out = sitk.Flip(new, flips)\n",
    "out = sitk.PermuteAxes(out, pinv)\n",
    "\n",
    "print(p)\n",
    "print(pinv)"
   ]
  },
  {
   "cell_type": "code",
   "execution_count": null,
   "id": "16",
   "metadata": {},
   "outputs": [],
   "source": [
    "print(dce_im)"
   ]
  },
  {
   "cell_type": "code",
   "execution_count": null,
   "id": "17",
   "metadata": {},
   "outputs": [],
   "source": []
  }
 ],
 "metadata": {
  "kernelspec": {
   "display_name": "Python 3 (ipykernel)",
   "language": "python",
   "name": "python3"
  },
  "language_info": {
   "codemirror_mode": {
    "name": "ipython",
    "version": 3
   },
   "file_extension": ".py",
   "mimetype": "text/x-python",
   "name": "python",
   "nbconvert_exporter": "python",
   "pygments_lexer": "ipython3",
   "version": "3.10.13"
  }
 },
 "nbformat": 4,
 "nbformat_minor": 5
}
